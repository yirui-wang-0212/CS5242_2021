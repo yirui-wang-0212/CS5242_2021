{
 "cells": [
  {
   "cell_type": "markdown",
   "metadata": {
    "id": "BBzHnbTrzs6P"
   },
   "source": [
    "# Lab 01 : Linear module -- demo"
   ]
  },
  {
   "cell_type": "code",
   "execution_count": 1,
   "metadata": {
    "executionInfo": {
     "elapsed": 3845,
     "status": "ok",
     "timestamp": 1631268383098,
     "user": {
      "displayName": "Yirui Wang",
      "photoUrl": "https://lh3.googleusercontent.com/a/default-user=s64",
      "userId": "14753845709256584186"
     },
     "user_tz": -480
    },
    "id": "D4BKaFp3zs6U"
   },
   "outputs": [],
   "source": [
    "import torch\n",
    "import torch.nn as nn"
   ]
  },
  {
   "cell_type": "markdown",
   "metadata": {
    "id": "KdK4AFqKzs6X"
   },
   "source": [
    "### Make a _Linear Module_ that takes input of size 5 and return output of size 3"
   ]
  },
  {
   "cell_type": "code",
   "execution_count": 2,
   "metadata": {
    "colab": {
     "base_uri": "https://localhost:8080/"
    },
    "executionInfo": {
     "elapsed": 10,
     "status": "ok",
     "timestamp": 1631268383099,
     "user": {
      "displayName": "Yirui Wang",
      "photoUrl": "https://lh3.googleusercontent.com/a/default-user=s64",
      "userId": "14753845709256584186"
     },
     "user_tz": -480
    },
    "id": "nwkBGYHXzs6Z",
    "outputId": "3695adf4-be02-4518-96a9-7cd355fc6e31"
   },
   "outputs": [
    {
     "name": "stdout",
     "output_type": "stream",
     "text": [
      "Linear(in_features=5, out_features=3, bias=True)\n"
     ]
    }
   ],
   "source": [
    "mod = nn.Linear(5,3)\n",
    "print(mod)"
   ]
  },
  {
   "cell_type": "markdown",
   "metadata": {
    "id": "sQw48d7Gzs6d"
   },
   "source": [
    "### Let's make a random tensor of size 5:"
   ]
  },
  {
   "cell_type": "code",
   "execution_count": 3,
   "metadata": {
    "colab": {
     "base_uri": "https://localhost:8080/"
    },
    "executionInfo": {
     "elapsed": 525,
     "status": "ok",
     "timestamp": 1631268408261,
     "user": {
      "displayName": "Yirui Wang",
      "photoUrl": "https://lh3.googleusercontent.com/a/default-user=s64",
      "userId": "14753845709256584186"
     },
     "user_tz": -480
    },
    "id": "HQzQNykLzs6e",
    "outputId": "cbdf504b-cd45-4cce-93e6-0d551f27d246"
   },
   "outputs": [
    {
     "name": "stdout",
     "output_type": "stream",
     "text": [
      "tensor([0.3605, 0.2662, 0.8566, 0.8908, 0.9242])\n",
      "torch.Size([5])\n"
     ]
    }
   ],
   "source": [
    "x=torch.rand(5)\n",
    "print(x)\n",
    "print(x.size())"
   ]
  },
  {
   "cell_type": "markdown",
   "metadata": {
    "id": "GlQUyQp8zs6g"
   },
   "source": [
    "### Feed it to the module:"
   ]
  },
  {
   "cell_type": "code",
   "execution_count": null,
   "metadata": {
    "colab": {
     "base_uri": "https://localhost:8080/"
    },
    "executionInfo": {
     "elapsed": 13,
     "status": "ok",
     "timestamp": 1630071104990,
     "user": {
      "displayName": "Yirui Wang",
      "photoUrl": "",
      "userId": "14753845709256584186"
     },
     "user_tz": -480
    },
    "id": "vKgeXnITzs6h",
    "outputId": "c7e271ea-492e-4990-e405-e6f4ce3f4e07"
   },
   "outputs": [
    {
     "name": "stdout",
     "output_type": "stream",
     "text": [
      "tensor([-0.7660,  0.1338, -0.1287], grad_fn=<AddBackward0>)\n"
     ]
    }
   ],
   "source": [
    "y=mod(x)\n",
    "print(y)"
   ]
  },
  {
   "cell_type": "markdown",
   "metadata": {
    "id": "yWEiPj1bzs6j"
   },
   "source": [
    "### The output y is computed according to the formula:\n",
    "$$\n",
    "\\begin{bmatrix}\n",
    "y_1\\\\ y_2 \\\\y_3 \n",
    "\\end{bmatrix} =\n",
    "\\begin{bmatrix}\n",
    "w_{11} & w_{12} & w_{13}& w_{14}& w_{15} \\\\\n",
    "w_{21} & w_{22} & w_{23}& w_{24}& w_{25} \\\\\n",
    "w_{31} & w_{32} & w_{33}& w_{34}& w_{35} \\\\\n",
    "\\end{bmatrix}\n",
    "\\begin{bmatrix}\n",
    "x_1\\\\ x_2 \\\\x_3 \\\\ x_4 \\\\x_5\n",
    "\\end{bmatrix}\n",
    "+\n",
    "\\begin{bmatrix}\n",
    "b_1\\\\ b_2 \\\\b_3 \n",
    "\\end{bmatrix}\n",
    "$$\n",
    "### were the $w_{ij}$'s are the weight parameters and the $b_i$'s are the bias parameters. These internal parameters can be access as follow:"
   ]
  },
  {
   "cell_type": "code",
   "execution_count": null,
   "metadata": {
    "colab": {
     "base_uri": "https://localhost:8080/"
    },
    "executionInfo": {
     "elapsed": 356,
     "status": "ok",
     "timestamp": 1630071111806,
     "user": {
      "displayName": "Yirui Wang",
      "photoUrl": "",
      "userId": "14753845709256584186"
     },
     "user_tz": -480
    },
    "id": "_uRBYooHzs6l",
    "outputId": "992bed39-96cc-4553-e8da-a86e34e50f74"
   },
   "outputs": [
    {
     "name": "stdout",
     "output_type": "stream",
     "text": [
      "Parameter containing:\n",
      "tensor([[-0.2899, -0.2906, -0.3823, -0.0696, -0.0474],\n",
      "        [-0.4042, -0.2812, -0.0561,  0.2667, -0.1352],\n",
      "        [-0.2762, -0.2503, -0.3434,  0.4431,  0.2974]], requires_grad=True)\n",
      "torch.Size([3, 5])\n"
     ]
    }
   ],
   "source": [
    "print(mod.weight)\n",
    "print(mod.weight.size())"
   ]
  },
  {
   "cell_type": "code",
   "execution_count": null,
   "metadata": {
    "colab": {
     "base_uri": "https://localhost:8080/"
    },
    "executionInfo": {
     "elapsed": 15,
     "status": "ok",
     "timestamp": 1630071115021,
     "user": {
      "displayName": "Yirui Wang",
      "photoUrl": "",
      "userId": "14753845709256584186"
     },
     "user_tz": -480
    },
    "id": "icZ1_dYjzs6n",
    "outputId": "75732831-712a-4fc0-a037-98474f257f26"
   },
   "outputs": [
    {
     "name": "stdout",
     "output_type": "stream",
     "text": [
      "Parameter containing:\n",
      "tensor([-0.1514,  0.3378, -0.1148], requires_grad=True)\n",
      "torch.Size([3])\n"
     ]
    }
   ],
   "source": [
    "print(mod.bias)\n",
    "print(mod.bias.size())"
   ]
  },
  {
   "cell_type": "markdown",
   "metadata": {
    "id": "I87kQnpqzs6p"
   },
   "source": [
    "### If we want we can change the internal parameters of the module:"
   ]
  },
  {
   "cell_type": "code",
   "execution_count": null,
   "metadata": {
    "colab": {
     "base_uri": "https://localhost:8080/"
    },
    "executionInfo": {
     "elapsed": 6,
     "status": "ok",
     "timestamp": 1630071118896,
     "user": {
      "displayName": "Yirui Wang",
      "photoUrl": "",
      "userId": "14753845709256584186"
     },
     "user_tz": -480
    },
    "id": "YU-5Ml1dzs6q",
    "outputId": "7c1d602c-24d2-47f3-a9f6-a47d03aee4a0"
   },
   "outputs": [
    {
     "name": "stdout",
     "output_type": "stream",
     "text": [
      "Parameter containing:\n",
      "tensor([[ 0.0000,  1.0000,  2.0000, -0.0696, -0.0474],\n",
      "        [-0.4042, -0.2812, -0.0561,  0.2667, -0.1352],\n",
      "        [-0.2762, -0.2503, -0.3434,  0.4431,  0.2974]], requires_grad=True)\n"
     ]
    }
   ],
   "source": [
    "with torch.no_grad():\n",
    "    mod.weight[0,0]=0\n",
    "    mod.weight[0,1]=1\n",
    "    mod.weight[0,2]=2\n",
    "    print(mod.weight)"
   ]
  },
  {
   "cell_type": "markdown",
   "metadata": {
    "id": "q1wYAJ4tzs6r"
   },
   "source": [
    "### We can also make a Linear module without bias:"
   ]
  },
  {
   "cell_type": "code",
   "execution_count": null,
   "metadata": {
    "colab": {
     "base_uri": "https://localhost:8080/"
    },
    "executionInfo": {
     "elapsed": 343,
     "status": "ok",
     "timestamp": 1630071132228,
     "user": {
      "displayName": "Yirui Wang",
      "photoUrl": "",
      "userId": "14753845709256584186"
     },
     "user_tz": -480
    },
    "id": "KXNbvR9mzs6r",
    "outputId": "2edb8e3d-26e8-4a1a-ba46-1736cb73b5ea"
   },
   "outputs": [
    {
     "name": "stdout",
     "output_type": "stream",
     "text": [
      "Linear(in_features=5, out_features=3, bias=False)\n"
     ]
    }
   ],
   "source": [
    "mod2 = nn.Linear(5,3,bias=False)\n",
    "print(mod2)"
   ]
  },
  {
   "cell_type": "code",
   "execution_count": null,
   "metadata": {
    "colab": {
     "base_uri": "https://localhost:8080/"
    },
    "executionInfo": {
     "elapsed": 318,
     "status": "ok",
     "timestamp": 1630071135771,
     "user": {
      "displayName": "Yirui Wang",
      "photoUrl": "",
      "userId": "14753845709256584186"
     },
     "user_tz": -480
    },
    "id": "1Te7vi1Gzs6s",
    "outputId": "8d3d70e3-a861-4825-f3cc-4a3375ac4669"
   },
   "outputs": [
    {
     "name": "stdout",
     "output_type": "stream",
     "text": [
      "Parameter containing:\n",
      "tensor([[-0.4231, -0.1643, -0.2297, -0.2368,  0.0236],\n",
      "        [ 0.3295,  0.3083, -0.1033,  0.1519, -0.1932],\n",
      "        [ 0.0089, -0.2818, -0.2800,  0.3098, -0.1770]], requires_grad=True)\n"
     ]
    }
   ],
   "source": [
    "print(mod2.weight)"
   ]
  },
  {
   "cell_type": "code",
   "execution_count": null,
   "metadata": {
    "colab": {
     "base_uri": "https://localhost:8080/"
    },
    "executionInfo": {
     "elapsed": 317,
     "status": "ok",
     "timestamp": 1630071142870,
     "user": {
      "displayName": "Yirui Wang",
      "photoUrl": "",
      "userId": "14753845709256584186"
     },
     "user_tz": -480
    },
    "id": "E6ouQoT2zs6t",
    "outputId": "29c911f7-04d7-4ac3-f8db-f50e40ae3467"
   },
   "outputs": [
    {
     "name": "stdout",
     "output_type": "stream",
     "text": [
      "None\n"
     ]
    }
   ],
   "source": [
    "print(mod2.bias)"
   ]
  },
  {
   "cell_type": "code",
   "execution_count": null,
   "metadata": {
    "id": "LtxNIUSPzs6v"
   },
   "outputs": [],
   "source": []
  }
 ],
 "metadata": {
  "colab": {
   "name": "linear_module_demo.ipynb",
   "provenance": []
  },
  "kernelspec": {
   "display_name": "Python 3 (ipykernel)",
   "language": "python",
   "name": "python3"
  },
  "language_info": {
   "codemirror_mode": {
    "name": "ipython",
    "version": 3
   },
   "file_extension": ".py",
   "mimetype": "text/x-python",
   "name": "python",
   "nbconvert_exporter": "python",
   "pygments_lexer": "ipython3",
   "version": "3.7.10"
  }
 },
 "nbformat": 4,
 "nbformat_minor": 1
}
