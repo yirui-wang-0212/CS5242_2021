{
 "cells": [
  {
   "cell_type": "markdown",
   "metadata": {
    "id": "9rgVuSapCtxn"
   },
   "source": [
    "# Lab 02 : Softmax function -- demo"
   ]
  },
  {
   "cell_type": "code",
   "execution_count": 1,
   "metadata": {
    "executionInfo": {
     "elapsed": 4456,
     "status": "ok",
     "timestamp": 1631269388433,
     "user": {
      "displayName": "Yirui Wang",
      "photoUrl": "https://lh3.googleusercontent.com/a/default-user=s64",
      "userId": "14753845709256584186"
     },
     "user_tz": -480
    },
    "id": "ptxJH1AkCtxs"
   },
   "outputs": [],
   "source": [
    "import torch"
   ]
  },
  {
   "cell_type": "markdown",
   "metadata": {
    "id": "wnD3JT5FCtxt"
   },
   "source": [
    "### Make a vector"
   ]
  },
  {
   "cell_type": "code",
   "execution_count": 2,
   "metadata": {
    "colab": {
     "base_uri": "https://localhost:8080/"
    },
    "executionInfo": {
     "elapsed": 27,
     "status": "ok",
     "timestamp": 1631269388434,
     "user": {
      "displayName": "Yirui Wang",
      "photoUrl": "https://lh3.googleusercontent.com/a/default-user=s64",
      "userId": "14753845709256584186"
     },
     "user_tz": -480
    },
    "id": "IeBnFAJRCtxu",
    "outputId": "d2eace0b-cd58-4dd9-8123-09c994167043"
   },
   "outputs": [
    {
     "name": "stdout",
     "output_type": "stream",
     "text": [
      "tensor([-2.0000, -0.5000,  2.0000,  1.5000])\n",
      "torch.Size([4])\n"
     ]
    }
   ],
   "source": [
    "x=torch.Tensor([ -2 , -0.5 , 2.0 , 1.5 ])\n",
    "print(x)\n",
    "print(x.size())"
   ]
  },
  {
   "cell_type": "markdown",
   "metadata": {
    "id": "Bufr2JGRCtxw"
   },
   "source": [
    "### Feed it to the softmax"
   ]
  },
  {
   "cell_type": "code",
   "execution_count": 3,
   "metadata": {
    "colab": {
     "base_uri": "https://localhost:8080/"
    },
    "executionInfo": {
     "elapsed": 22,
     "status": "ok",
     "timestamp": 1631269388434,
     "user": {
      "displayName": "Yirui Wang",
      "photoUrl": "https://lh3.googleusercontent.com/a/default-user=s64",
      "userId": "14753845709256584186"
     },
     "user_tz": -480
    },
    "id": "UMdSn_f_Ctxw",
    "outputId": "0bd378c9-c39d-429b-cee1-43712dd57e99"
   },
   "outputs": [
    {
     "name": "stdout",
     "output_type": "stream",
     "text": [
      "tensor([0.0107, 0.0481, 0.5858, 0.3553])\n",
      "torch.Size([4])\n"
     ]
    }
   ],
   "source": [
    "p=torch.softmax(x, dim = 0)\n",
    "print(p)\n",
    "print(p.size())"
   ]
  },
  {
   "cell_type": "markdown",
   "metadata": {
    "id": "eV439wLkCtxx"
   },
   "source": [
    "### Check that it sums to one"
   ]
  },
  {
   "cell_type": "code",
   "execution_count": 4,
   "metadata": {
    "colab": {
     "base_uri": "https://localhost:8080/"
    },
    "executionInfo": {
     "elapsed": 20,
     "status": "ok",
     "timestamp": 1631269388435,
     "user": {
      "displayName": "Yirui Wang",
      "photoUrl": "https://lh3.googleusercontent.com/a/default-user=s64",
      "userId": "14753845709256584186"
     },
     "user_tz": -480
    },
    "id": "LXaMw3D7Ctxz",
    "outputId": "e482c819-4315-46fe-bb13-98b6b3541342"
   },
   "outputs": [
    {
     "name": "stdout",
     "output_type": "stream",
     "text": [
      "tensor(1.)\n"
     ]
    }
   ],
   "source": [
    "print(  p.sum()  )"
   ]
  },
  {
   "cell_type": "markdown",
   "metadata": {
    "id": "3PjC2yz0Ctx0"
   },
   "source": [
    "### Make a matrix a matrix"
   ]
  },
  {
   "cell_type": "code",
   "execution_count": 5,
   "metadata": {
    "colab": {
     "base_uri": "https://localhost:8080/"
    },
    "executionInfo": {
     "elapsed": 18,
     "status": "ok",
     "timestamp": 1631269388436,
     "user": {
      "displayName": "Yirui Wang",
      "photoUrl": "https://lh3.googleusercontent.com/a/default-user=s64",
      "userId": "14753845709256584186"
     },
     "user_tz": -480
    },
    "id": "ho9b1ld5Ctx1",
    "outputId": "41a67020-ed29-4af3-a8cb-7a91c359e815"
   },
   "outputs": [
    {
     "name": "stdout",
     "output_type": "stream",
     "text": [
      "tensor([[-2.0000, -0.5000,  2.0000,  1.5000],\n",
      "        [-2.0000, -0.5000,  7.0000,  1.5000]])\n"
     ]
    }
   ],
   "source": [
    "A=torch.Tensor( [ [ -2 , -0.5 , 2.0 , 1.5 ] , [ -2 , -0.5 , 7.0 , 1.5 ] ])\n",
    "print(A)"
   ]
  },
  {
   "cell_type": "markdown",
   "metadata": {
    "id": "h5s_BwwZCtx3"
   },
   "source": [
    "### Take the softmax over the rows (dim=1)"
   ]
  },
  {
   "cell_type": "code",
   "execution_count": 6,
   "metadata": {
    "colab": {
     "base_uri": "https://localhost:8080/"
    },
    "executionInfo": {
     "elapsed": 17,
     "status": "ok",
     "timestamp": 1631269388437,
     "user": {
      "displayName": "Yirui Wang",
      "photoUrl": "https://lh3.googleusercontent.com/a/default-user=s64",
      "userId": "14753845709256584186"
     },
     "user_tz": -480
    },
    "id": "b9cjfzpvCtx3",
    "outputId": "f4a03055-b5bc-4a60-f373-797ef843e9a0"
   },
   "outputs": [
    {
     "name": "stdout",
     "output_type": "stream",
     "text": [
      "tensor([[1.0730e-02, 4.8089e-02, 5.8585e-01, 3.5533e-01],\n",
      "        [1.2282e-04, 5.5046e-04, 9.9526e-01, 4.0674e-03]])\n"
     ]
    }
   ],
   "source": [
    "p = torch.softmax(A , dim=1)\n",
    "print(p)"
   ]
  },
  {
   "cell_type": "markdown",
   "metadata": {
    "id": "EkiIq5jJCtx4"
   },
   "source": [
    "### Take the softmax over the columns (dim=0)"
   ]
  },
  {
   "cell_type": "code",
   "execution_count": 7,
   "metadata": {
    "colab": {
     "base_uri": "https://localhost:8080/"
    },
    "executionInfo": {
     "elapsed": 15,
     "status": "ok",
     "timestamp": 1631269388437,
     "user": {
      "displayName": "Yirui Wang",
      "photoUrl": "https://lh3.googleusercontent.com/a/default-user=s64",
      "userId": "14753845709256584186"
     },
     "user_tz": -480
    },
    "id": "zARxgRWhCtx4",
    "outputId": "6eeebe27-5bed-42a9-92ac-b5fcbd024943"
   },
   "outputs": [
    {
     "name": "stdout",
     "output_type": "stream",
     "text": [
      "tensor([[0.5000, 0.5000, 0.0067, 0.5000],\n",
      "        [0.5000, 0.5000, 0.9933, 0.5000]])\n"
     ]
    }
   ],
   "source": [
    "p = torch.softmax(A , dim=0)\n",
    "print(p)"
   ]
  },
  {
   "cell_type": "code",
   "execution_count": 7,
   "metadata": {
    "executionInfo": {
     "elapsed": 12,
     "status": "ok",
     "timestamp": 1631269388438,
     "user": {
      "displayName": "Yirui Wang",
      "photoUrl": "https://lh3.googleusercontent.com/a/default-user=s64",
      "userId": "14753845709256584186"
     },
     "user_tz": -480
    },
    "id": "VsB_Z5HDCtx6"
   },
   "outputs": [],
   "source": []
  }
 ],
 "metadata": {
  "colab": {
   "name": "softmax_demo.ipynb",
   "provenance": []
  },
  "kernelspec": {
   "display_name": "Python 3 (ipykernel)",
   "language": "python",
   "name": "python3"
  },
  "language_info": {
   "codemirror_mode": {
    "name": "ipython",
    "version": 3
   },
   "file_extension": ".py",
   "mimetype": "text/x-python",
   "name": "python",
   "nbconvert_exporter": "python",
   "pygments_lexer": "ipython3",
   "version": "3.7.10"
  }
 },
 "nbformat": 4,
 "nbformat_minor": 1
}
