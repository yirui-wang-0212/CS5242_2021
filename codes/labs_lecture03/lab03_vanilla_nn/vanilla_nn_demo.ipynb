{
 "cells": [
  {
   "cell_type": "markdown",
   "metadata": {
    "id": "iV4zt1ffHnd8"
   },
   "source": [
    "# Lab 03 : Vanilla neural networks -- demo\n",
    "\n",
    "# Creating a two-layer network"
   ]
  },
  {
   "cell_type": "code",
   "execution_count": 2,
   "metadata": {
    "executionInfo": {
     "elapsed": 5162,
     "status": "ok",
     "timestamp": 1633353050528,
     "user": {
      "displayName": "Yirui Wang",
      "photoUrl": "https://lh3.googleusercontent.com/a/default-user=s64",
      "userId": "14753845709256584186"
     },
     "user_tz": -480
    },
    "id": "lv57ndKsHneB"
   },
   "outputs": [],
   "source": [
    "import torch\n",
    "import torch.nn as nn"
   ]
  },
  {
   "cell_type": "markdown",
   "metadata": {
    "id": "XN_VbhDiHneC"
   },
   "source": [
    "### In Pytorch, networks are defined as classes"
   ]
  },
  {
   "cell_type": "code",
   "execution_count": 3,
   "metadata": {
    "executionInfo": {
     "elapsed": 61,
     "status": "ok",
     "timestamp": 1633353050538,
     "user": {
      "displayName": "Yirui Wang",
      "photoUrl": "https://lh3.googleusercontent.com/a/default-user=s64",
      "userId": "14753845709256584186"
     },
     "user_tz": -480
    },
    "id": "glmPTQvVHneD"
   },
   "outputs": [],
   "source": [
    "class two_layer_net(nn.Module):\n",
    "\n",
    "    def __init__(self, input_size, hidden_size, output_size):\n",
    "        super(two_layer_net , self).__init__()\n",
    "        \n",
    "        self.layer1 = nn.Linear( input_size, hidden_size , bias=True)\n",
    "        self.layer2 = nn.Linear( hidden_size, output_size , bias=True)        \n",
    "        \n",
    "    def forward(self, x):\n",
    "        \n",
    "        x = self.layer1(x)\n",
    "        x = torch.relu(x)\n",
    "        x = self.layer2(x)\n",
    "        p = torch.softmax(x, dim=0)\n",
    "        \n",
    "        return p"
   ]
  },
  {
   "cell_type": "markdown",
   "metadata": {
    "id": "Yh09fuIeHneD"
   },
   "source": [
    "### Create an instance that takes input of size 2, then transform it into something of size 5, then into something of size 3\n",
    "$$\n",
    "\\begin{bmatrix}\n",
    "\\times \\\\ \\times \n",
    "\\end{bmatrix}\n",
    "\\longrightarrow\n",
    "\\begin{bmatrix}\n",
    "\\times \\\\ \\times \\\\ \\times \\\\ \\times \\\\ \\times\n",
    "\\end{bmatrix}\n",
    "\\longrightarrow\n",
    "\\begin{bmatrix}\n",
    "\\times \\\\ \\times \\\\ \\times\n",
    "\\end{bmatrix}\n",
    "$$"
   ]
  },
  {
   "cell_type": "code",
   "execution_count": 4,
   "metadata": {
    "colab": {
     "base_uri": "https://localhost:8080/"
    },
    "executionInfo": {
     "elapsed": 60,
     "status": "ok",
     "timestamp": 1633353050538,
     "user": {
      "displayName": "Yirui Wang",
      "photoUrl": "https://lh3.googleusercontent.com/a/default-user=s64",
      "userId": "14753845709256584186"
     },
     "user_tz": -480
    },
    "id": "APeqMsEiHneE",
    "outputId": "9afebe73-91ab-438b-e3e1-530b1067bca0"
   },
   "outputs": [
    {
     "name": "stdout",
     "output_type": "stream",
     "text": [
      "two_layer_net(\n",
      "  (layer1): Linear(in_features=2, out_features=5, bias=True)\n",
      "  (layer2): Linear(in_features=5, out_features=3, bias=True)\n",
      ")\n"
     ]
    }
   ],
   "source": [
    "net= two_layer_net(2,5,3)\n",
    "print(net)"
   ]
  },
  {
   "cell_type": "markdown",
   "metadata": {
    "id": "OB_pI0sLHneF"
   },
   "source": [
    "### Now we are going to make an input vector and feed it to the network:"
   ]
  },
  {
   "cell_type": "code",
   "execution_count": 5,
   "metadata": {
    "colab": {
     "base_uri": "https://localhost:8080/"
    },
    "executionInfo": {
     "elapsed": 51,
     "status": "ok",
     "timestamp": 1633353050539,
     "user": {
      "displayName": "Yirui Wang",
      "photoUrl": "https://lh3.googleusercontent.com/a/default-user=s64",
      "userId": "14753845709256584186"
     },
     "user_tz": -480
    },
    "id": "2UQRDBR8HneG",
    "outputId": "2d9bc723-dfe6-4903-b16e-25b36bdd58b0"
   },
   "outputs": [
    {
     "name": "stdout",
     "output_type": "stream",
     "text": [
      "tensor([1., 1.])\n"
     ]
    }
   ],
   "source": [
    "x=torch.Tensor([1,1])\n",
    "print(x)"
   ]
  },
  {
   "cell_type": "code",
   "execution_count": 6,
   "metadata": {
    "colab": {
     "base_uri": "https://localhost:8080/"
    },
    "executionInfo": {
     "elapsed": 48,
     "status": "ok",
     "timestamp": 1633353050540,
     "user": {
      "displayName": "Yirui Wang",
      "photoUrl": "https://lh3.googleusercontent.com/a/default-user=s64",
      "userId": "14753845709256584186"
     },
     "user_tz": -480
    },
    "id": "NARI8kn7HneH",
    "outputId": "ab77cc29-e6e5-426f-e414-3b7cae6067fd"
   },
   "outputs": [
    {
     "name": "stdout",
     "output_type": "stream",
     "text": [
      "tensor([0.2616, 0.4639, 0.2744], grad_fn=<SoftmaxBackward>)\n"
     ]
    }
   ],
   "source": [
    "p=net.forward(x)\n",
    "print(p)"
   ]
  },
  {
   "cell_type": "markdown",
   "metadata": {
    "id": "Tx9OTxW8HneI"
   },
   "source": [
    "### Syntactic easy for the forward method"
   ]
  },
  {
   "cell_type": "code",
   "execution_count": 7,
   "metadata": {
    "colab": {
     "base_uri": "https://localhost:8080/"
    },
    "executionInfo": {
     "elapsed": 45,
     "status": "ok",
     "timestamp": 1633353050541,
     "user": {
      "displayName": "Yirui Wang",
      "photoUrl": "https://lh3.googleusercontent.com/a/default-user=s64",
      "userId": "14753845709256584186"
     },
     "user_tz": -480
    },
    "id": "p3Zn9pxYHneJ",
    "outputId": "3e2790a7-9974-4b21-d70e-7819b47e1ed8"
   },
   "outputs": [
    {
     "name": "stdout",
     "output_type": "stream",
     "text": [
      "tensor([0.2616, 0.4639, 0.2744], grad_fn=<SoftmaxBackward>)\n"
     ]
    }
   ],
   "source": [
    "p=net(x)\n",
    "print(p)"
   ]
  },
  {
   "cell_type": "markdown",
   "metadata": {
    "id": "9O66AvqUHneJ"
   },
   "source": [
    "### Let's check that the probability vector indeed sum to 1:"
   ]
  },
  {
   "cell_type": "code",
   "execution_count": 8,
   "metadata": {
    "colab": {
     "base_uri": "https://localhost:8080/"
    },
    "executionInfo": {
     "elapsed": 41,
     "status": "ok",
     "timestamp": 1633353050541,
     "user": {
      "displayName": "Yirui Wang",
      "photoUrl": "https://lh3.googleusercontent.com/a/default-user=s64",
      "userId": "14753845709256584186"
     },
     "user_tz": -480
    },
    "id": "9OWPVuc1HneK",
    "outputId": "62e990d3-1f45-475f-dc76-aedcec9400cd"
   },
   "outputs": [
    {
     "name": "stdout",
     "output_type": "stream",
     "text": [
      "tensor(1., grad_fn=<SumBackward0>)\n"
     ]
    }
   ],
   "source": [
    "print( p.sum() )"
   ]
  },
  {
   "cell_type": "markdown",
   "metadata": {
    "id": "hxEOJF_tHneK"
   },
   "source": [
    "### This network is composed of two Linear modules that we have called layer1 and layer2. We can see this when we type:"
   ]
  },
  {
   "cell_type": "code",
   "execution_count": 9,
   "metadata": {
    "colab": {
     "base_uri": "https://localhost:8080/"
    },
    "executionInfo": {
     "elapsed": 38,
     "status": "ok",
     "timestamp": 1633353050541,
     "user": {
      "displayName": "Yirui Wang",
      "photoUrl": "https://lh3.googleusercontent.com/a/default-user=s64",
      "userId": "14753845709256584186"
     },
     "user_tz": -480
    },
    "id": "LUWDzf66HneL",
    "outputId": "4d7138b5-7e9e-452c-9007-1959267c4a20"
   },
   "outputs": [
    {
     "name": "stdout",
     "output_type": "stream",
     "text": [
      "two_layer_net(\n",
      "  (layer1): Linear(in_features=2, out_features=5, bias=True)\n",
      "  (layer2): Linear(in_features=5, out_features=3, bias=True)\n",
      ")\n"
     ]
    }
   ],
   "source": [
    "print(net)"
   ]
  },
  {
   "cell_type": "markdown",
   "metadata": {
    "id": "qRqBlEx2HneL"
   },
   "source": [
    "### We can access the first module as follow:"
   ]
  },
  {
   "cell_type": "code",
   "execution_count": 10,
   "metadata": {
    "colab": {
     "base_uri": "https://localhost:8080/"
    },
    "executionInfo": {
     "elapsed": 37,
     "status": "ok",
     "timestamp": 1633353050543,
     "user": {
      "displayName": "Yirui Wang",
      "photoUrl": "https://lh3.googleusercontent.com/a/default-user=s64",
      "userId": "14753845709256584186"
     },
     "user_tz": -480
    },
    "id": "K5wg7D3HHneL",
    "outputId": "aa47e85d-b1f1-452a-cc23-f34b1a1cfa9a"
   },
   "outputs": [
    {
     "name": "stdout",
     "output_type": "stream",
     "text": [
      "Linear(in_features=2, out_features=5, bias=True)\n"
     ]
    }
   ],
   "source": [
    "print(net.layer1)"
   ]
  },
  {
   "cell_type": "markdown",
   "metadata": {
    "id": "u3enZFg0HneM"
   },
   "source": [
    "### To get the weights and bias of the first layer we do:"
   ]
  },
  {
   "cell_type": "code",
   "execution_count": 11,
   "metadata": {
    "colab": {
     "base_uri": "https://localhost:8080/"
    },
    "executionInfo": {
     "elapsed": 35,
     "status": "ok",
     "timestamp": 1633353050544,
     "user": {
      "displayName": "Yirui Wang",
      "photoUrl": "https://lh3.googleusercontent.com/a/default-user=s64",
      "userId": "14753845709256584186"
     },
     "user_tz": -480
    },
    "id": "iR3R8c8jHneM",
    "outputId": "742ff58b-ca68-4b0f-a41d-289ad1ef457c"
   },
   "outputs": [
    {
     "name": "stdout",
     "output_type": "stream",
     "text": [
      "Parameter containing:\n",
      "tensor([[ 0.0433, -0.0761],\n",
      "        [ 0.1485, -0.0490],\n",
      "        [-0.0376, -0.6016],\n",
      "        [-0.0901,  0.3085],\n",
      "        [ 0.6438, -0.6161]], requires_grad=True)\n"
     ]
    }
   ],
   "source": [
    "print(net.layer1.weight)"
   ]
  },
  {
   "cell_type": "code",
   "execution_count": 12,
   "metadata": {
    "colab": {
     "base_uri": "https://localhost:8080/"
    },
    "executionInfo": {
     "elapsed": 34,
     "status": "ok",
     "timestamp": 1633353050546,
     "user": {
      "displayName": "Yirui Wang",
      "photoUrl": "https://lh3.googleusercontent.com/a/default-user=s64",
      "userId": "14753845709256584186"
     },
     "user_tz": -480
    },
    "id": "fs15qz6yHneM",
    "outputId": "165d176b-4db1-4663-e051-ed0d1b707a94"
   },
   "outputs": [
    {
     "name": "stdout",
     "output_type": "stream",
     "text": [
      "Parameter containing:\n",
      "tensor([ 0.5111,  0.4378, -0.0100,  0.5958,  0.1648], requires_grad=True)\n"
     ]
    }
   ],
   "source": [
    " print(net.layer1.bias)"
   ]
  },
  {
   "cell_type": "markdown",
   "metadata": {
    "id": "PBNpOnslHneN"
   },
   "source": [
    "### So to change the first row of the weights from layer 1 you would do:"
   ]
  },
  {
   "cell_type": "code",
   "execution_count": 13,
   "metadata": {
    "colab": {
     "base_uri": "https://localhost:8080/"
    },
    "executionInfo": {
     "elapsed": 31,
     "status": "ok",
     "timestamp": 1633353050546,
     "user": {
      "displayName": "Yirui Wang",
      "photoUrl": "https://lh3.googleusercontent.com/a/default-user=s64",
      "userId": "14753845709256584186"
     },
     "user_tz": -480
    },
    "id": "uP74F-69HneN",
    "outputId": "5cc1f6ce-f2e5-401f-ce20-2fe31c64150b"
   },
   "outputs": [
    {
     "name": "stdout",
     "output_type": "stream",
     "text": [
      "Parameter containing:\n",
      "tensor([[10.0000, 20.0000],\n",
      "        [ 0.1485, -0.0490],\n",
      "        [-0.0376, -0.6016],\n",
      "        [-0.0901,  0.3085],\n",
      "        [ 0.6438, -0.6161]], requires_grad=True)\n"
     ]
    }
   ],
   "source": [
    "with torch.no_grad():\n",
    "    net.layer1.weight[0,0]=10\n",
    "    net.layer1.weight[0,1]=20\n",
    "    print(net.layer1.weight)"
   ]
  },
  {
   "cell_type": "markdown",
   "metadata": {
    "id": "8bEuzw90HneN"
   },
   "source": [
    "### Now we are going to feed  $x=\\begin{bmatrix}1\\\\1 \\end{bmatrix}$ to this modified network:"
   ]
  },
  {
   "cell_type": "code",
   "execution_count": 14,
   "metadata": {
    "colab": {
     "base_uri": "https://localhost:8080/"
    },
    "executionInfo": {
     "elapsed": 29,
     "status": "ok",
     "timestamp": 1633353050546,
     "user": {
      "displayName": "Yirui Wang",
      "photoUrl": "https://lh3.googleusercontent.com/a/default-user=s64",
      "userId": "14753845709256584186"
     },
     "user_tz": -480
    },
    "id": "4hdc7arcHneO",
    "outputId": "184ffab9-a469-4c1d-aae3-04cb91d2d1e1"
   },
   "outputs": [
    {
     "name": "stdout",
     "output_type": "stream",
     "text": [
      "tensor([2.7339e-06, 1.0000e+00, 7.4261e-07], grad_fn=<SoftmaxBackward>)\n"
     ]
    }
   ],
   "source": [
    "p=net(x)\n",
    "print(p)"
   ]
  },
  {
   "cell_type": "markdown",
   "metadata": {
    "id": "F8FEWMGcHneO"
   },
   "source": [
    "### Alternatively, all the parameters of the network can be accessed by net.parameters(). "
   ]
  },
  {
   "cell_type": "code",
   "execution_count": 15,
   "metadata": {
    "colab": {
     "base_uri": "https://localhost:8080/"
    },
    "executionInfo": {
     "elapsed": 29,
     "status": "ok",
     "timestamp": 1633353050549,
     "user": {
      "displayName": "Yirui Wang",
      "photoUrl": "https://lh3.googleusercontent.com/a/default-user=s64",
      "userId": "14753845709256584186"
     },
     "user_tz": -480
    },
    "id": "btOOjpM-HneP",
    "outputId": "a484427e-6e60-4bcc-b17a-ed712be8d733"
   },
   "outputs": [
    {
     "name": "stdout",
     "output_type": "stream",
     "text": [
      "[Parameter containing:\n",
      "tensor([[10.0000, 20.0000],\n",
      "        [ 0.1485, -0.0490],\n",
      "        [-0.0376, -0.6016],\n",
      "        [-0.0901,  0.3085],\n",
      "        [ 0.6438, -0.6161]], requires_grad=True), Parameter containing:\n",
      "tensor([ 0.5111,  0.4378, -0.0100,  0.5958,  0.1648], requires_grad=True), Parameter containing:\n",
      "tensor([[-0.3220, -0.1148, -0.2681,  0.2941,  0.1721],\n",
      "        [ 0.0854,  0.1018,  0.1135, -0.0571, -0.1227],\n",
      "        [-0.3670, -0.2497, -0.4123,  0.2341,  0.3207]], requires_grad=True), Parameter containing:\n",
      "tensor([-0.1877,  0.4165, -0.0257], requires_grad=True)]\n"
     ]
    }
   ],
   "source": [
    "list_of_param = list( net.parameters() )\n",
    "print(list_of_param)"
   ]
  },
  {
   "cell_type": "code",
   "execution_count": 17,
   "metadata": {
    "colab": {
     "base_uri": "https://localhost:8080/"
    },
    "executionInfo": {
     "elapsed": 474,
     "status": "ok",
     "timestamp": 1633353091968,
     "user": {
      "displayName": "Yirui Wang",
      "photoUrl": "https://lh3.googleusercontent.com/a/default-user=s64",
      "userId": "14753845709256584186"
     },
     "user_tz": -480
    },
    "id": "ZDD9ICyBHneP",
    "outputId": "a16d70ad-d2ee-46d7-851c-6f25c2560f09"
   },
   "outputs": [
    {
     "name": "stdout",
     "output_type": "stream",
     "text": [
      "<generator object Module.parameters at 0x7fdf68fbbf50>\n"
     ]
    }
   ],
   "source": [
    "print(net.parameters())"
   ]
  },
  {
   "cell_type": "code",
   "execution_count": 16,
   "metadata": {
    "executionInfo": {
     "elapsed": 26,
     "status": "ok",
     "timestamp": 1633353050552,
     "user": {
      "displayName": "Yirui Wang",
      "photoUrl": "https://lh3.googleusercontent.com/a/default-user=s64",
      "userId": "14753845709256584186"
     },
     "user_tz": -480
    },
    "id": "YdD2JzunbR15"
   },
   "outputs": [],
   "source": []
  }
 ],
 "metadata": {
  "colab": {
   "collapsed_sections": [],
   "name": "vanilla_nn_demo.ipynb",
   "provenance": []
  },
  "kernelspec": {
   "display_name": "Python 3 (ipykernel)",
   "language": "python",
   "name": "python3"
  },
  "language_info": {
   "codemirror_mode": {
    "name": "ipython",
    "version": 3
   },
   "file_extension": ".py",
   "mimetype": "text/x-python",
   "name": "python",
   "nbconvert_exporter": "python",
   "pygments_lexer": "ipython3",
   "version": "3.7.10"
  }
 },
 "nbformat": 4,
 "nbformat_minor": 1
}
