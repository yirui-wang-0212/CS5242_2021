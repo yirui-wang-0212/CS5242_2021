{
 "cells": [
  {
   "cell_type": "markdown",
   "metadata": {
    "id": "mY6A-dbJCJ5H"
   },
   "source": [
    "# Lab 01 : Cross-entropy loss -- demo"
   ]
  },
  {
   "cell_type": "code",
   "execution_count": 1,
   "metadata": {
    "colab": {
     "base_uri": "https://localhost:8080/"
    },
    "executionInfo": {
     "elapsed": 432,
     "status": "ok",
     "timestamp": 1631450695738,
     "user": {
      "displayName": "Yirui Wang",
      "photoUrl": "https://lh3.googleusercontent.com/a/default-user=s64",
      "userId": "14753845709256584186"
     },
     "user_tz": -480
    },
    "id": "lLKvJFIzCJ5N",
    "outputId": "c01aff86-c0f0-4b38-fc2d-ba1f6a6dd401"
   },
   "outputs": [],
   "source": [
    "# For Google Colaboratory\n",
    "import sys, os\n",
    "if 'google.colab' in sys.modules:\n",
    "    # mount google drive\n",
    "    from google.colab import drive\n",
    "    drive.mount('/content/gdrive')\n",
    "    # find automatically the path of the folder containing \"file_name\" :\n",
    "    file_name = 'cross_entropy_demo.ipynb'\n",
    "    import subprocess\n",
    "    path_to_file = subprocess.check_output('find . -type f -name ' + str(file_name), shell=True).decode(\"utf-8\")\n",
    "    path_to_file = path_to_file.replace(file_name,\"\").replace('\\n',\"\")\n",
    "    # if previous search failed or too long, comment the previous line and simply write down manually the path below :\n",
    "    #path_to_file = '/content/gdrive/My Drive/CS5242_2021_codes/codes/labs_lecture04/lab01_cross_entropy'\n",
    "    print(path_to_file)\n",
    "    # change current path to the folder containing \"file_name\"\n",
    "    os.chdir(path_to_file)\n",
    "    !pwd"
   ]
  },
  {
   "cell_type": "code",
   "execution_count": 6,
   "metadata": {
    "executionInfo": {
     "elapsed": 17,
     "status": "ok",
     "timestamp": 1631450695739,
     "user": {
      "displayName": "Yirui Wang",
      "photoUrl": "https://lh3.googleusercontent.com/a/default-user=s64",
      "userId": "14753845709256584186"
     },
     "user_tz": -480
    },
    "id": "vvgGQKy7CJ5P"
   },
   "outputs": [],
   "source": [
    "import torch\n",
    "import torch.nn as nn\n",
    "import utils"
   ]
  },
  {
   "cell_type": "markdown",
   "metadata": {
    "id": "fC4zTvKQCJ5Q"
   },
   "source": [
    "### Make a Cross Entropy Criterion and call it mycrit "
   ]
  },
  {
   "cell_type": "code",
   "execution_count": 7,
   "metadata": {
    "colab": {
     "base_uri": "https://localhost:8080/"
    },
    "executionInfo": {
     "elapsed": 18,
     "status": "ok",
     "timestamp": 1631450695740,
     "user": {
      "displayName": "Yirui Wang",
      "photoUrl": "https://lh3.googleusercontent.com/a/default-user=s64",
      "userId": "14753845709256584186"
     },
     "user_tz": -480
    },
    "id": "d5GQuVEiCJ5Q",
    "outputId": "5f07173e-244c-4f08-eee6-48141f51f7bf"
   },
   "outputs": [
    {
     "name": "stdout",
     "output_type": "stream",
     "text": [
      "CrossEntropyLoss()\n"
     ]
    }
   ],
   "source": [
    "mycrit=nn.CrossEntropyLoss()\n",
    "print(mycrit)"
   ]
  },
  {
   "cell_type": "markdown",
   "metadata": {
    "id": "IIHNWSgiCJ5S"
   },
   "source": [
    "### Make a batch of labels"
   ]
  },
  {
   "cell_type": "code",
   "execution_count": 8,
   "metadata": {
    "colab": {
     "base_uri": "https://localhost:8080/"
    },
    "executionInfo": {
     "elapsed": 15,
     "status": "ok",
     "timestamp": 1631450695740,
     "user": {
      "displayName": "Yirui Wang",
      "photoUrl": "https://lh3.googleusercontent.com/a/default-user=s64",
      "userId": "14753845709256584186"
     },
     "user_tz": -480
    },
    "id": "aOkyZBHGCJ5T",
    "outputId": "e169b0bf-365b-4406-cf36-78a7cbd76177"
   },
   "outputs": [
    {
     "name": "stdout",
     "output_type": "stream",
     "text": [
      "tensor([2, 3])\n"
     ]
    }
   ],
   "source": [
    "labels=torch.LongTensor([2,3])\n",
    "\n",
    "print(labels)"
   ]
  },
  {
   "cell_type": "markdown",
   "metadata": {
    "id": "7eSByqsSCJ5U"
   },
   "source": [
    "### Make a batch of scores"
   ]
  },
  {
   "cell_type": "code",
   "execution_count": 9,
   "metadata": {
    "colab": {
     "base_uri": "https://localhost:8080/"
    },
    "executionInfo": {
     "elapsed": 15,
     "status": "ok",
     "timestamp": 1631450695743,
     "user": {
      "displayName": "Yirui Wang",
      "photoUrl": "https://lh3.googleusercontent.com/a/default-user=s64",
      "userId": "14753845709256584186"
     },
     "user_tz": -480
    },
    "id": "WsWSxN_PCJ5V",
    "outputId": "6b4768f2-2a8b-492a-d16f-a521103683b7"
   },
   "outputs": [
    {
     "name": "stdout",
     "output_type": "stream",
     "text": [
      "tensor([[-1.2000,  0.5000,  5.0000, -0.5000],\n",
      "        [ 1.4000, -1.7000, -1.3000,  5.0000]])\n"
     ]
    }
   ],
   "source": [
    "scores=torch.Tensor([ [-1.2, 0.5 , 5, -0.5], [1.4, -1.7 , -1.3, 5.0] ])\n",
    "\n",
    "print(scores)"
   ]
  },
  {
   "cell_type": "code",
   "execution_count": 10,
   "metadata": {
    "colab": {
     "base_uri": "https://localhost:8080/",
     "height": 161
    },
    "executionInfo": {
     "elapsed": 682,
     "status": "ok",
     "timestamp": 1631450696414,
     "user": {
      "displayName": "Yirui Wang",
      "photoUrl": "https://lh3.googleusercontent.com/a/default-user=s64",
      "userId": "14753845709256584186"
     },
     "user_tz": -480
    },
    "id": "TKsMemduCJ5W",
    "outputId": "48cd1898-2952-404d-c8df-b23f5b993ccf"
   },
   "outputs": [
    {
     "data": {
      "image/png": "[encoded data removed]",
      "text/plain": [
       "<Figure size 576x576 with 2 Axes>"
      ]
     },
     "metadata": {},
     "output_type": "display_data"
    }
   ],
   "source": [
    "utils.display_scores(scores)"
   ]
  },
  {
   "cell_type": "markdown",
   "metadata": {
    "id": "nQpSFkSmCJ5W"
   },
   "source": [
    "### compute the average loss on this batch"
   ]
  },
  {
   "cell_type": "code",
   "execution_count": 11,
   "metadata": {
    "colab": {
     "base_uri": "https://localhost:8080/"
    },
    "executionInfo": {
     "elapsed": 39,
     "status": "ok",
     "timestamp": 1631450696416,
     "user": {
      "displayName": "Yirui Wang",
      "photoUrl": "https://lh3.googleusercontent.com/a/default-user=s64",
      "userId": "14753845709256584186"
     },
     "user_tz": -480
    },
    "id": "hn8EdWhOCJ5W",
    "outputId": "576406cf-47dc-474f-bf77-9f1ca6aff8c8"
   },
   "outputs": [
    {
     "name": "stdout",
     "output_type": "stream",
     "text": [
      "loss =  0.023508397862315178\n"
     ]
    }
   ],
   "source": [
    "average_loss = mycrit(scores,labels)\n",
    "\n",
    "print('loss = ', average_loss.item() )"
   ]
  },
  {
   "cell_type": "code",
   "execution_count": 12,
   "metadata": {},
   "outputs": [
    {
     "data": {
      "text/plain": [
       "tensor(0.0235)"
      ]
     },
     "execution_count": 12,
     "metadata": {},
     "output_type": "execute_result"
    }
   ],
   "source": [
    "average_loss"
   ]
  },
  {
   "cell_type": "code",
   "execution_count": 13,
   "metadata": {},
   "outputs": [
    {
     "data": {
      "text/plain": [
       "0.023508397862315178"
      ]
     },
     "execution_count": 13,
     "metadata": {},
     "output_type": "execute_result"
    }
   ],
   "source": [
    "average_loss.item()"
   ]
  },
  {
   "cell_type": "markdown",
   "metadata": {
    "id": "Oo4EpAZ9CJ5X"
   },
   "source": [
    "### Try with a different batch of scores"
   ]
  },
  {
   "cell_type": "code",
   "execution_count": 14,
   "metadata": {
    "colab": {
     "base_uri": "https://localhost:8080/",
     "height": 212
    },
    "executionInfo": {
     "elapsed": 38,
     "status": "ok",
     "timestamp": 1631450696418,
     "user": {
      "displayName": "Yirui Wang",
      "photoUrl": "https://lh3.googleusercontent.com/a/default-user=s64",
      "userId": "14753845709256584186"
     },
     "user_tz": -480
    },
    "id": "YGFILhUaCJ5X",
    "outputId": "ec4cac0d-32f3-4ca4-ce0f-7b1e6af81b2b"
   },
   "outputs": [
    {
     "name": "stdout",
     "output_type": "stream",
     "text": [
      "tensor([[-1.2000,  0.5000,  3.1000, -0.5000],\n",
      "        [ 1.4000, -1.7000, -1.3000,  2.0000]])\n"
     ]
    },
    {
     "data": {
      "image/png": "[encoded data removed]",
      "text/plain": [
       "<Figure size 576x576 with 2 Axes>"
      ]
     },
     "metadata": {},
     "output_type": "display_data"
    },
    {
     "name": "stdout",
     "output_type": "stream",
     "text": [
      "loss =  0.2927485406398773\n"
     ]
    }
   ],
   "source": [
    "scores=torch.Tensor([ [-1.2, 0.5 , 3.1, -0.5], [1.4, -1.7 , -1.3, 2.0] ])\n",
    "\n",
    "print(scores)\n",
    "\n",
    "utils.display_scores(scores)\n",
    "\n",
    "average_loss = mycrit(scores,labels)\n",
    "\n",
    "print('loss = ', average_loss.item() )"
   ]
  },
  {
   "cell_type": "markdown",
   "metadata": {
    "id": "YSNNKIn0CJ5Y"
   },
   "source": [
    "### Try with a different batch of scores"
   ]
  },
  {
   "cell_type": "code",
   "execution_count": 15,
   "metadata": {
    "colab": {
     "base_uri": "https://localhost:8080/",
     "height": 212
    },
    "executionInfo": {
     "elapsed": 36,
     "status": "ok",
     "timestamp": 1631450696419,
     "user": {
      "displayName": "Yirui Wang",
      "photoUrl": "https://lh3.googleusercontent.com/a/default-user=s64",
      "userId": "14753845709256584186"
     },
     "user_tz": -480
    },
    "id": "GWRO_aYDCJ5Y",
    "outputId": "4e19e75d-ae51-40ef-9ca6-10f3fe4feea1"
   },
   "outputs": [
    {
     "name": "stdout",
     "output_type": "stream",
     "text": [
      "tensor([[ 0.8000,  2.3000, -1.0000, -1.2000],\n",
      "        [-1.2000,  1.3000,  5.0000, -2.0000]])\n"
     ]
    },
    {
     "data": {
      "image/png": "[encoded data removed]",
      "text/plain": [
       "<Figure size 576x576 with 2 Axes>"
      ]
     },
     "metadata": {},
     "output_type": "display_data"
    },
    {
     "name": "stdout",
     "output_type": "stream",
     "text": [
      "loss =  5.291047096252441\n"
     ]
    }
   ],
   "source": [
    "scores=torch.Tensor([[0.8, 2.3, -1.0, -1.2] , [-1.2, 1.3, 5.0 , -2.0 ] ]  )\n",
    "\n",
    "print(scores)\n",
    "\n",
    "utils.display_scores(scores)\n",
    "\n",
    "average_loss = mycrit(scores,labels)\n",
    "\n",
    "print('loss = ', average_loss.item() )"
   ]
  },
  {
   "cell_type": "code",
   "execution_count": 12,
   "metadata": {
    "executionInfo": {
     "elapsed": 33,
     "status": "ok",
     "timestamp": 1631450696421,
     "user": {
      "displayName": "Yirui Wang",
      "photoUrl": "https://lh3.googleusercontent.com/a/default-user=s64",
      "userId": "14753845709256584186"
     },
     "user_tz": -480
    },
    "id": "NfLh97sWCJ5Y"
   },
   "outputs": [],
   "source": []
  }
 ],
 "metadata": {
  "colab": {
   "name": "cross_entropy_demo.ipynb",
   "provenance": []
  },
  "kernelspec": {
   "display_name": "Python 3 (ipykernel)",
   "language": "python",
   "name": "python3"
  },
  "language_info": {
   "codemirror_mode": {
    "name": "ipython",
    "version": 3
   },
   "file_extension": ".py",
   "mimetype": "text/x-python",
   "name": "python",
   "nbconvert_exporter": "python",
   "pygments_lexer": "ipython3",
   "version": "3.7.10"
  }
 },
 "nbformat": 4,
 "nbformat_minor": 1
}
